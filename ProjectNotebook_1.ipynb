{
    "nbformat_minor": 1, 
    "cells": [
        {
            "source": "### Importing the needed libraries", 
            "cell_type": "markdown", 
            "metadata": {}
        }, 
        {
            "execution_count": 1, 
            "cell_type": "code", 
            "metadata": {}, 
            "outputs": [], 
            "source": "import numpy as np\nimport pandas as pd\nimport requests\nfrom bs4 import BeautifulSoup"
        }, 
        {
            "source": "### Getting the page into xml format", 
            "cell_type": "markdown", 
            "metadata": {}
        }, 
        {
            "execution_count": 2, 
            "cell_type": "code", 
            "metadata": {
                "scrolled": false
            }, 
            "outputs": [], 
            "source": "url=requests.get('https://en.wikipedia.org/wiki/List_of_postal_codes_of_Canada:_M').text\nsoup=BeautifulSoup(url,'lxml')"
        }, 
        {
            "source": "### Finding the table tag, class tag and its value to get the desired table", 
            "cell_type": "markdown", 
            "metadata": {}
        }, 
        {
            "execution_count": 3, 
            "cell_type": "code", 
            "metadata": {}, 
            "outputs": [], 
            "source": "table=soup.find('table',{'class':'wikitable sortable'})"
        }, 
        {
            "source": "   ### Creating a list of headers. The headers are marked with the 'th' tag", 
            "cell_type": "markdown", 
            "metadata": {}
        }, 
        {
            "execution_count": 4, 
            "cell_type": "code", 
            "metadata": {}, 
            "outputs": [], 
            "source": "ths=table.find_all('th')\nheadings = [th.text.strip() for th in ths]\n"
        }, 
        {
            "source": "### Creating lists data for each header from the rows, the rows are marked with the 'tr' tag, and the data with 'td' tag", 
            "cell_type": "markdown", 
            "metadata": {}
        }, 
        {
            "execution_count": 5, 
            "cell_type": "code", 
            "metadata": {}, 
            "outputs": [], 
            "source": "Postcode=[]\nBorough=[]\nNeighbourhood=[]\nfor tr in table.find_all('tr'):\n        tds = tr.find_all('td')\n        if not tds:\n            continue\n        Postcode_, Borough_, Neighbourhood_=[td.text.strip() for td in tds[:3]]\n        Postcode.append(Postcode_)\n        Borough.append(Borough_)\n        Neighbourhood.append(Neighbourhood_)"
        }, 
        {
            "source": "### Creating the data frame", 
            "cell_type": "markdown", 
            "metadata": {}
        }, 
        {
            "execution_count": 6, 
            "cell_type": "code", 
            "metadata": {}, 
            "outputs": [], 
            "source": "df=pd.DataFrame(columns=headings)\ndf['Postcode']=Postcode\ndf['Neighbourhood']=Neighbourhood\ndf['Borough']=Borough\n\n\n"
        }, 
        {
            "source": "### Removing the rows where the Borough is not assigned", 
            "cell_type": "markdown", 
            "metadata": {}
        }, 
        {
            "execution_count": 7, 
            "cell_type": "code", 
            "metadata": {}, 
            "outputs": [], 
            "source": "df=df[df.Borough!='Not assigned']"
        }, 
        {
            "source": "### Replacing the Neighbourhoods that are not assigned with the Borough", 
            "cell_type": "markdown", 
            "metadata": {}
        }, 
        {
            "execution_count": 8, 
            "cell_type": "code", 
            "metadata": {}, 
            "outputs": [], 
            "source": "df['Neighbourhood']=df['Neighbourhood'].replace('Not assigned', df['Borough'])"
        }, 
        {
            "source": "### Combining the Neighbourhoods for the same Postcode and Borough", 
            "cell_type": "markdown", 
            "metadata": {}
        }, 
        {
            "execution_count": 9, 
            "cell_type": "code", 
            "metadata": {}, 
            "outputs": [
                {
                    "execution_count": 9, 
                    "metadata": {}, 
                    "data": {
                        "text/html": "<div>\n<style scoped>\n    .dataframe tbody tr th:only-of-type {\n        vertical-align: middle;\n    }\n\n    .dataframe tbody tr th {\n        vertical-align: top;\n    }\n\n    .dataframe thead th {\n        text-align: right;\n    }\n</style>\n<table border=\"1\" class=\"dataframe\">\n  <thead>\n    <tr style=\"text-align: right;\">\n      <th></th>\n      <th>Postcode</th>\n      <th>Borough</th>\n      <th>Neighbourhood</th>\n    </tr>\n  </thead>\n  <tbody>\n    <tr>\n      <th>0</th>\n      <td>M1B</td>\n      <td>Scarborough</td>\n      <td>Rouge, Malvern</td>\n    </tr>\n    <tr>\n      <th>1</th>\n      <td>M1C</td>\n      <td>Scarborough</td>\n      <td>Highland Creek, Rouge Hill, Port Union</td>\n    </tr>\n    <tr>\n      <th>2</th>\n      <td>M1E</td>\n      <td>Scarborough</td>\n      <td>Guildwood, Morningside, West Hill</td>\n    </tr>\n    <tr>\n      <th>3</th>\n      <td>M1G</td>\n      <td>Scarborough</td>\n      <td>Woburn</td>\n    </tr>\n    <tr>\n      <th>4</th>\n      <td>M1H</td>\n      <td>Scarborough</td>\n      <td>Cedarbrae</td>\n    </tr>\n    <tr>\n      <th>5</th>\n      <td>M1J</td>\n      <td>Scarborough</td>\n      <td>Scarborough Village</td>\n    </tr>\n    <tr>\n      <th>6</th>\n      <td>M1K</td>\n      <td>Scarborough</td>\n      <td>East Birchmount Park, Ionview, Kennedy Park</td>\n    </tr>\n    <tr>\n      <th>7</th>\n      <td>M1L</td>\n      <td>Scarborough</td>\n      <td>Clairlea, Golden Mile, Oakridge</td>\n    </tr>\n    <tr>\n      <th>8</th>\n      <td>M1M</td>\n      <td>Scarborough</td>\n      <td>Cliffcrest, Cliffside, Scarborough Village West</td>\n    </tr>\n    <tr>\n      <th>9</th>\n      <td>M1N</td>\n      <td>Scarborough</td>\n      <td>Birch Cliff, Cliffside West</td>\n    </tr>\n    <tr>\n      <th>10</th>\n      <td>M1P</td>\n      <td>Scarborough</td>\n      <td>Dorset Park, Scarborough Town Centre, Wexford ...</td>\n    </tr>\n    <tr>\n      <th>11</th>\n      <td>M1R</td>\n      <td>Scarborough</td>\n      <td>Maryvale, Wexford</td>\n    </tr>\n    <tr>\n      <th>12</th>\n      <td>M1S</td>\n      <td>Scarborough</td>\n      <td>Agincourt</td>\n    </tr>\n    <tr>\n      <th>13</th>\n      <td>M1T</td>\n      <td>Scarborough</td>\n      <td>Clarks Corners, Sullivan, Tam O'Shanter</td>\n    </tr>\n    <tr>\n      <th>14</th>\n      <td>M1V</td>\n      <td>Scarborough</td>\n      <td>Agincourt North, L'Amoreaux East, Milliken, St...</td>\n    </tr>\n    <tr>\n      <th>15</th>\n      <td>M1W</td>\n      <td>Scarborough</td>\n      <td>L'Amoreaux West, Steeles West</td>\n    </tr>\n    <tr>\n      <th>16</th>\n      <td>M1X</td>\n      <td>Scarborough</td>\n      <td>Upper Rouge</td>\n    </tr>\n    <tr>\n      <th>17</th>\n      <td>M2H</td>\n      <td>North York</td>\n      <td>Hillcrest Village</td>\n    </tr>\n    <tr>\n      <th>18</th>\n      <td>M2J</td>\n      <td>North York</td>\n      <td>Fairview, Henry Farm, Oriole</td>\n    </tr>\n    <tr>\n      <th>19</th>\n      <td>M2K</td>\n      <td>North York</td>\n      <td>Bayview Village</td>\n    </tr>\n  </tbody>\n</table>\n</div>", 
                        "text/plain": "   Postcode      Borough                                      Neighbourhood\n0       M1B  Scarborough                                     Rouge, Malvern\n1       M1C  Scarborough             Highland Creek, Rouge Hill, Port Union\n2       M1E  Scarborough                  Guildwood, Morningside, West Hill\n3       M1G  Scarborough                                             Woburn\n4       M1H  Scarborough                                          Cedarbrae\n5       M1J  Scarborough                                Scarborough Village\n6       M1K  Scarborough        East Birchmount Park, Ionview, Kennedy Park\n7       M1L  Scarborough                    Clairlea, Golden Mile, Oakridge\n8       M1M  Scarborough    Cliffcrest, Cliffside, Scarborough Village West\n9       M1N  Scarborough                        Birch Cliff, Cliffside West\n10      M1P  Scarborough  Dorset Park, Scarborough Town Centre, Wexford ...\n11      M1R  Scarborough                                  Maryvale, Wexford\n12      M1S  Scarborough                                          Agincourt\n13      M1T  Scarborough            Clarks Corners, Sullivan, Tam O'Shanter\n14      M1V  Scarborough  Agincourt North, L'Amoreaux East, Milliken, St...\n15      M1W  Scarborough                      L'Amoreaux West, Steeles West\n16      M1X  Scarborough                                        Upper Rouge\n17      M2H   North York                                  Hillcrest Village\n18      M2J   North York                       Fairview, Henry Farm, Oriole\n19      M2K   North York                                    Bayview Village"
                    }, 
                    "output_type": "execute_result"
                }
            ], 
            "source": "grpby=df.groupby(['Postcode','Borough'], as_index=False)\ndf=grpby.agg(lambda x: ', '.join(x))\ndf.head(20)"
        }, 
        {
            "source": "### Shape of the DataFrame", 
            "cell_type": "markdown", 
            "metadata": {}
        }, 
        {
            "execution_count": 10, 
            "cell_type": "code", 
            "metadata": {}, 
            "outputs": [
                {
                    "execution_count": 10, 
                    "metadata": {}, 
                    "data": {
                        "text/plain": "(103, 3)"
                    }, 
                    "output_type": "execute_result"
                }
            ], 
            "source": "df.shape"
        }
    ], 
    "metadata": {
        "kernelspec": {
            "display_name": "Python 3.5", 
            "name": "python3", 
            "language": "python"
        }, 
        "language_info": {
            "mimetype": "text/x-python", 
            "nbconvert_exporter": "python", 
            "version": "3.5.5", 
            "name": "python", 
            "file_extension": ".py", 
            "pygments_lexer": "ipython3", 
            "codemirror_mode": {
                "version": 3, 
                "name": "ipython"
            }
        }
    }, 
    "nbformat": 4
}