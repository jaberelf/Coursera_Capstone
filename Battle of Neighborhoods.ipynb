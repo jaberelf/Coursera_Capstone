{
    "nbformat_minor": 1, 
    "cells": [
        {
            "source": "### Description of the Problem :\nA travelling agency plans to organize a trip to the East Side of the USA, and they plan to start with New York City.    \nIn order to satisfy their clients, the agency is looking for what neighborhoods to visit, their characteristics, and the top venues in these neighborhoods.  \nMostly, the agency focuses on Hotels, Restaurants, Museums, Parks, Shops, Sites, Plazas, etc.  \n**Q:** So, what are the neighborhoods and venues that the agency should visit to satisfy their customers, and what are their characteristics ?\n\n", 
            "cell_type": "markdown", 
            "metadata": {}
        }
    ], 
    "metadata": {
        "kernelspec": {
            "display_name": "Python 3.5", 
            "name": "python3", 
            "language": "python"
        }, 
        "language_info": {
            "mimetype": "text/x-python", 
            "nbconvert_exporter": "python", 
            "version": "3.5.5", 
            "name": "python", 
            "file_extension": ".py", 
            "pygments_lexer": "ipython3", 
            "codemirror_mode": {
                "version": 3, 
                "name": "ipython"
            }
        }
    }, 
    "nbformat": 4
}