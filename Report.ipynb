{
 "cells": [
  {
   "cell_type": "markdown",
   "metadata": {},
   "source": [
    "# I. Description of the Problem :\n",
    "A travelling agency plans to organize their first trip to France, and they plan to start with the capital, Paris.\n",
    "In order to satisfy their clients, the agency is looking for what neighborhoods to visit, their characteristics, and the top venues in these neighborhoods.\n",
    "Mostly, the agency focuses on **Hotels, some types of Restaurants, Museums, Parks, Shops, Sites, Plazas, and Monuments.**  \n",
    "**Q**: So, what are the neighborhoods and venues that the agency should visit to satisfy their customers, and what are their characteristics ?"
   ]
  },
  {
   "cell_type": "markdown",
   "metadata": {},
   "source": [
    "### I.1 Background :\n",
    "Location data is now easily accessible through different services (Google, Foursquare ...), and data science can help use this data for the benefit of stakeholders who can get more information and insights on the desired locations through data analysis, data visualization or machine learning.  \n",
    "This travelling agency always satisfied their clients, and they want to keep on doing so. But it's their first time organizing something in France. So, in order to achieve this goal and keep their good image, they believed that data science is the key."
   ]
  },
  {
   "cell_type": "markdown",
   "metadata": {},
   "source": [
    "# II. Description of the data :\n",
    "--> In order to help the agency solve this problem, I will, firstly, get the data about Paris Neighborhoods (Neighborhood, Latitude, Longitude) from the Paris data repository https://opendata.paris.fr. So, I will create a first DataFrame that contains the following columns:  \n",
    "**Id,Neighborhood, Latitude, Longitude**  \n",
    "--> Then, I will use the Foursquare API to get the top venues and their characteristics in each neighborhood of the first DataFrame, and then analyse them and cluster them. So I will create a second DataFrame that contains the following columns:    \n",
    "**Id, Neighborhood, -A one hot encoded List of the desired Venues Types-, Longitude, Latitude.** \n",
    "This second DataFrame will be used for creating clusters.  \n",
    "Then I will reuse the foursquare API to get the most liked tips about each place give the agency an idea about what people think of each venue.\n",
    "\n"
   ]
  },
  {
   "cell_type": "markdown",
   "metadata": {},
   "source": [
    "# III. Methodology\n",
    "### III.1. Exploratory Data Analysis\n",
    "In the first I visualized the neighborhoods from the first DataFrame using Folium, just to give the agency an idea about the localisation of the neighborhoods. Then I used Foursquare API to get the 30 top venues in a radius of 500 meters, then I used the 'unique' methods to see the venue categories available so the agency had an idea about them, and decided the ones to keep and the ones to remove.  \n",
    "After that, I used the one hot encoding and then an aggregation on the categories to see the top five ones in each Neighborhood so as to have an idea about the neighborhoods.  \n",
    "### III.2. Machine Learning (Clustering)  \n",
    "I used the one hot encoded dataset for neighborhoods clustering using **K-Means algorithm** and the **elbow method** to get the right number of clusters, and Folium to visualize the clusters.\n",
    "### III.3. Exploring the clusters\n",
    "After that I visualized the top categories for each cluster using **bar plots**, and I used word clouds to see the top words in the tips.  \n"
   ]
  },
  {
   "cell_type": "markdown",
   "metadata": {},
   "source": [
    "# IV. Results\n",
    "### IV.1. Data Analysis    \n",
    "After printing the top categories for each neighborhood we can see that the top category is 'French Restaurant' and that's pretty obvious because we're in Paris, followed be either Hotels, or Italian Restaurants. So that's what characterizes the Neighborhoods in Paris.  \n",
    "### IV.2. Clustering  \n",
    "After performing the Clustering algorithm, and the elbow method to evaluate it, we found out that we have 6 clusters within Paris neighborhoods.\n",
    "### IV.3. Exploring the Clusters    \n",
    "We have 6 clusters, in all of them the top venues are French Restaurants and Hotels obviously, so we won't mention them to see what really characterizes each cluster. \n",
    "**Cluster 1 :**      \n",
    "--> Enfants-Rouges, Rochechouart, Combat, Epinettes, Pont-de-Flandre, Palais-Royal, Archives, Charonne, Saint-Merri, Folie-Méricourt, Amérique, Gare, Madeleine, Vivienne.  \n",
    "--> These neighborhoods mostly contain Parks, Hotels, Italian Restaurants and Clothing Stores.  \n",
    "**Cluster 2:**      \n",
    "--> Bercy, Ternes, Javel 15Art, Saint-Georges, Ecole-Militaire, Chaillot, Hôpital-Saint-Louis, Petit-Montrouge, Necker, Porte-Dauphine, 'Saint-Gervais,Saint-Victor, Bel-Air, Salpêtrière, Europe, Belleville, Place-Vendôme, Val-de-Grace, Auteuil\n",
    "--> These neighborhoods mostly contain Italian Restaurants, Museums, Plazas, Parks, also, Asian Restaurants.\n",
    "**Cluster 3:**    \n",
    "--> Saint-Thomas-d'Aquin, Notre-Dame-des-Champs, Arsenal, Montparnasse, Grandes-Carrières, Villette, Roquette, Invalides, Saint-Germain-des-Prés, Faubourg-du-Roule  \n",
    "--> Mostly contains Italian Restaurants, Plazas, Parks, Asian Restaurants, Museums.  \n",
    "**Cluster 4:**  \n",
    "--> Sainte-Marguerite, Chaussée-d'Antin, Gros-Caillou.\n",
    "--> Mostly contains Italian Restaurants, Monuments, Plazas, Art Museums.  \n",
    "**Cluster 5:**  \n",
    "--> Muette, Batignolles, Odeon, Saint-Lambert, Saint-Ambroise.  \n",
    "--> Mostly contains Plazas, Parks, Art Museums.  \n",
    "**Cluster 6:**  \n",
    "--> Notre-Dame, Jardin-des-Plantes, Faubourg-Montmartre, Porte-Saint-Denis, Porte-Saint-Martin, St-Germain-l'Auxerrois, Maison-Blanche, Parc-de-Montsouris, Plaisance, Sainte-Avoie, Monnaie, Mail, Champs-Elysées, Saint-Vincent-de-Paul, Plaine de Monceaux, Arts-et-Metiers, Sorbonne, Quinze-Vingts, Grenelle, Saint-Fargeau, La Chapelle, Gaillon, Croulebarbe, Halles, Clignancourt\n",
    "--> As this cluster contains many Neighborhoods, it contains all categories of venues.  \n",
    "### IV.4. Exploring the Tips:  \n",
    "After visualizing the contents of the tips using the words cloud visualization, we can say that the venues in the selected neighborhoods are satisfying as we can find words such as **'Great, Nice, Excellent, Good, Best, Delicious ...'** . "
   ]
  },
  {
   "cell_type": "markdown",
   "metadata": {},
   "source": [
    "# V. Discussion\n",
    "Through this work of analysis, machine learning and visualization, I can say that I've got the best out of the neighborhoods of Paris, so the agency has now a large amount of good venues from different categories and that they will for sure satisfy their clients."
   ]
  },
  {
   "cell_type": "markdown",
   "metadata": {},
   "source": [
    "# VI. Conclusion\n",
    "Paris is a great city, the city of light, a dream place for many to visit, that's why this agency had the idea to organize a trip for its customers, and through data science I was able to get the best venues and characterize each one of them.  \n",
    "What I can say is that companies should invest more in data science, and rely on it to answer their business questions mostly about the future because it can give great results and gain."
   ]
  },
  {
   "cell_type": "code",
   "execution_count": null,
   "metadata": {},
   "outputs": [],
   "source": []
  }
 ],
 "metadata": {
  "kernelspec": {
   "display_name": "Python 3",
   "language": "python",
   "name": "python3"
  },
  "language_info": {
   "codemirror_mode": {
    "name": "ipython",
    "version": 3
   },
   "file_extension": ".py",
   "mimetype": "text/x-python",
   "name": "python",
   "nbconvert_exporter": "python",
   "pygments_lexer": "ipython3",
   "version": "3.6.6"
  }
 },
 "nbformat": 4,
 "nbformat_minor": 2
}
