{
 "cells": [
  {
   "cell_type": "markdown",
   "metadata": {},
   "source": [
    "## Description of the Problem :\n",
    "A travelling agency plans to organize their first trip to France, and they plan to start with the capital, Paris.\n",
    "In order to satisfy their clients, the agency is looking for what neighborhoods to visit, their characteristics, and the top venues in these neighborhoods.\n",
    "Mostly, the agency focuses on Hotels, Restaurants, Museums, Parks, Shops, Sites, Plazas, Monuments, etc.  \n",
    "**Q**: So, what are the neighborhoods and venues that the agency should visit to satisfy their customers, and what are their characteristics ?"
   ]
  },
  {
   "cell_type": "markdown",
   "metadata": {},
   "source": [
    "### Background :\n",
    "Location data is now easily accessible through different services (Google, Foursquare ...), and data science can help use this data for the benefit of stakeholders who can get more information and insights on the desired locations through data analysis, data visualization or machine learning.  \n",
    "This travelling agency always satisfied their clients, and they want to keep on doing so. But it's their first time organizing something in France. So, in order to achieve this goal and keep their good image, they believed that data science is the key."
   ]
  },
  {
   "cell_type": "markdown",
   "metadata": {},
   "source": [
    "## Description of the data :\n",
    "--> In order to help the agency solve this problem, I will, firstly, get the data about Paris Neighborhoods (Neighborhood, Latitude, Longitude) from the Paris data repository https://opendata.paris.fr. So, I will create a first DataFrame that contains the following columns:  \n",
    "**Id,Neighborhood, Latitude, Longitude**  \n",
    "--> Then, I will use the Foursquare API to get the top venues and their characteristics in each neighborhood of the first DataFrame, and then analyse them and cluster them. So I will create a second DataFrame that contains the following columns:    \n",
    "**Id, Neighborhood, -A one hot encoded List of the desired Venues Types-, Longitude, Latitude.** \n",
    "This second DataFrame will be used for creating clusters.  \n",
    "Then I will reuse the foursquare API to get the most liked tips about each place give the agency an idea about what people think of each venue."
   ]
  },
  {
   "cell_type": "code",
   "execution_count": null,
   "metadata": {},
   "outputs": [],
   "source": []
  }
 ],
 "metadata": {
  "kernelspec": {
   "display_name": "Python 3",
   "language": "python",
   "name": "python3"
  },
  "language_info": {
   "codemirror_mode": {
    "name": "ipython",
    "version": 3
   },
   "file_extension": ".py",
   "mimetype": "text/x-python",
   "name": "python",
   "nbconvert_exporter": "python",
   "pygments_lexer": "ipython3",
   "version": "3.6.6"
  }
 },
 "nbformat": 4,
 "nbformat_minor": 2
}
