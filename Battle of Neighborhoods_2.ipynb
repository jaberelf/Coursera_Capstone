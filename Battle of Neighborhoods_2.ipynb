{
    "nbformat_minor": 1, 
    "cells": [
        {
            "source": "### Description of the Problem :\nA travelling agency plans to organize a trip to the East Side of the USA, and they plan to start with New York City.    \nIn order to satisfy their clients, the agency is looking for what neighborhoods to visit, their characteristics, and the top venues in these neighborhoods.  \nMostly, the agency focuses on Hotels, Restaurants, Museums, Parks, Shops, Sites, Plazas, etc.  \n**Q:** So, what are the neighborhoods and venues that the agency should visit to satisfy their customers, and what are their characteristics ?", 
            "cell_type": "markdown", 
            "metadata": {}
        }, 
        {
            "source": "### Description of the data :\n--> In order to help the agency solve this problem, I will, firstly, get the data about NYCs Neighborhoods (Borough, Latitude, Longitude). So, I will create a first DataFrame that contains the following columns:  \n**Id, Borough, Neighborhood, Latitude, Longitude**   \n--> Then, I will use the **Foursquare** API to get the trending venues and their characteristics in each neighborhood of the first DataFrame and then analyse them and cluster them. So I will create a second DataFrame that contains the following columns:  \n**Id, Neighborhood, -A one hot encoded List of the desired Venues Types-, Longitude, Latitude**.  \nThis second DataFrame will be used for creating clusters.\n", 
            "cell_type": "markdown", 
            "metadata": {}
        }, 
        {
            "execution_count": null, 
            "cell_type": "code", 
            "metadata": {}, 
            "outputs": [], 
            "source": ""
        }
    ], 
    "metadata": {
        "kernelspec": {
            "display_name": "Python 3.5", 
            "name": "python3", 
            "language": "python"
        }, 
        "language_info": {
            "mimetype": "text/x-python", 
            "nbconvert_exporter": "python", 
            "version": "3.5.5", 
            "name": "python", 
            "file_extension": ".py", 
            "pygments_lexer": "ipython3", 
            "codemirror_mode": {
                "version": 3, 
                "name": "ipython"
            }
        }
    }, 
    "nbformat": 4
}