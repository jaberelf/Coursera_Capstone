{
    "nbformat_minor": 1, 
    "cells": [
        {
            "source": "### Description of the Problem :\nA travelling agency plans to organize their first trip to the East Side of the USA, and they plan to start with New York City.    \nIn order to satisfy their clients, the agency is looking for what neighborhoods to visit, their characteristics, and the top venues in these neighborhoods.  \nMostly, the agency focuses on Hotels, Restaurants, Museums, Parks, Shops, Sites, Plazas, etc.  \n**Q:** So, what are the neighborhoods and venues that the agency should visit to satisfy their customers, and what are their characteristics ?\n#### Background :\nLocation data is now easily accessible through different services (Google, Foursquare ...), and data science can help use this data for the benefit of stakeholders who can get more information and insights on the desired locations through data analysis, data visualization or machine learning.  \nThis travelling agency always satisfied their clients, and they want to keep on doing so. But it's their first time organizing something in the USA. So, in order to achieve this goal and keep their good image, they believed that data science is the key.", 
            "cell_type": "markdown", 
            "metadata": {}
        }, 
        {
            "execution_count": null, 
            "cell_type": "code", 
            "metadata": {}, 
            "outputs": [], 
            "source": ""
        }
    ], 
    "metadata": {
        "kernelspec": {
            "display_name": "Python 3.5", 
            "name": "python3", 
            "language": "python"
        }, 
        "language_info": {
            "mimetype": "text/x-python", 
            "nbconvert_exporter": "python", 
            "version": "3.5.5", 
            "name": "python", 
            "file_extension": ".py", 
            "pygments_lexer": "ipython3", 
            "codemirror_mode": {
                "version": 3, 
                "name": "ipython"
            }
        }
    }, 
    "nbformat": 4
}